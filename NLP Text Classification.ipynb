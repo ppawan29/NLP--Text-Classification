{
 "cells": [
  {
   "cell_type": "code",
   "execution_count": 84,
   "metadata": {},
   "outputs": [],
   "source": [
    "import pandas as pd\n",
    "import numpy as np\n",
    "import matplotlib.pyplot as plt\n",
    "import seaborn as sns\n",
    "%matplotlib inline\n",
    "    \n",
    "df_train=pd.read_csv('/Users/pawanp29/Downloads/Predictive_Data/train_file.csv')"
   ]
  },
  {
   "cell_type": "code",
   "execution_count": 125,
   "metadata": {},
   "outputs": [
    {
     "data": {
      "text/html": [
       "<div>\n",
       "<style scoped>\n",
       "    .dataframe tbody tr th:only-of-type {\n",
       "        vertical-align: middle;\n",
       "    }\n",
       "\n",
       "    .dataframe tbody tr th {\n",
       "        vertical-align: top;\n",
       "    }\n",
       "\n",
       "    .dataframe thead th {\n",
       "        text-align: right;\n",
       "    }\n",
       "</style>\n",
       "<table border=\"1\" class=\"dataframe\">\n",
       "  <thead>\n",
       "    <tr style=\"text-align: right;\">\n",
       "      <th></th>\n",
       "      <th>ID</th>\n",
       "      <th>UsageClass</th>\n",
       "      <th>CheckoutType</th>\n",
       "      <th>CheckoutYear</th>\n",
       "      <th>CheckoutMonth</th>\n",
       "      <th>Checkouts</th>\n",
       "      <th>Title</th>\n",
       "      <th>Creator</th>\n",
       "      <th>Subjects</th>\n",
       "      <th>Publisher</th>\n",
       "      <th>PublicationYear</th>\n",
       "      <th>MaterialType</th>\n",
       "      <th>combined</th>\n",
       "      <th>Length</th>\n",
       "    </tr>\n",
       "  </thead>\n",
       "  <tbody>\n",
       "    <tr>\n",
       "      <td>0</td>\n",
       "      <td>1</td>\n",
       "      <td>1</td>\n",
       "      <td>1</td>\n",
       "      <td>2005</td>\n",
       "      <td>4</td>\n",
       "      <td>1</td>\n",
       "      <td>Tidal wave</td>\n",
       "      <td>No Creator</td>\n",
       "      <td>Tsunamis, Tsunamis Juvenile literature</td>\n",
       "      <td>No Publisher</td>\n",
       "      <td>0</td>\n",
       "      <td>BOOK</td>\n",
       "      <td>Tidal wave No Creator Tsunamis, Tsunamis Juven...</td>\n",
       "      <td>73</td>\n",
       "    </tr>\n",
       "    <tr>\n",
       "      <td>2</td>\n",
       "      <td>3</td>\n",
       "      <td>1</td>\n",
       "      <td>1</td>\n",
       "      <td>2005</td>\n",
       "      <td>4</td>\n",
       "      <td>3</td>\n",
       "      <td>Cinco de Mayo : celebrating Hispanic pride / C...</td>\n",
       "      <td>Gnojewski, Carol</td>\n",
       "      <td>Cinco de Mayo Mexican holiday History Juvenile...</td>\n",
       "      <td>Enslow Publishers,</td>\n",
       "      <td>c2002.</td>\n",
       "      <td>BOOK</td>\n",
       "      <td>Cinco de Mayo : celebrating Hispanic pride / C...</td>\n",
       "      <td>420</td>\n",
       "    </tr>\n",
       "    <tr>\n",
       "      <td>3</td>\n",
       "      <td>4</td>\n",
       "      <td>1</td>\n",
       "      <td>1</td>\n",
       "      <td>2005</td>\n",
       "      <td>4</td>\n",
       "      <td>1</td>\n",
       "      <td>Annapolis</td>\n",
       "      <td>No Creator</td>\n",
       "      <td>War stories, Historical fiction, Domestic fict...</td>\n",
       "      <td>No Publisher</td>\n",
       "      <td>0</td>\n",
       "      <td>BOOK</td>\n",
       "      <td>Annapolis No Creator War stories, Historical f...</td>\n",
       "      <td>287</td>\n",
       "    </tr>\n",
       "    <tr>\n",
       "      <td>4</td>\n",
       "      <td>5</td>\n",
       "      <td>1</td>\n",
       "      <td>1</td>\n",
       "      <td>2005</td>\n",
       "      <td>4</td>\n",
       "      <td>1</td>\n",
       "      <td>As a man thinketh</td>\n",
       "      <td>No Creator</td>\n",
       "      <td>Thought and thinking</td>\n",
       "      <td>No Publisher</td>\n",
       "      <td>0</td>\n",
       "      <td>BOOK</td>\n",
       "      <td>As a man thinketh No Creator Thought and think...</td>\n",
       "      <td>62</td>\n",
       "    </tr>\n",
       "    <tr>\n",
       "      <td>5</td>\n",
       "      <td>6</td>\n",
       "      <td>1</td>\n",
       "      <td>1</td>\n",
       "      <td>2005</td>\n",
       "      <td>4</td>\n",
       "      <td>4</td>\n",
       "      <td>Minnie and Moo go dancing / [written and illus...</td>\n",
       "      <td>Cazet, Denys</td>\n",
       "      <td>Cows Juvenile fiction, Parties Fiction, Farm l...</td>\n",
       "      <td>DK Pub.,</td>\n",
       "      <td>c1998.</td>\n",
       "      <td>BOOK</td>\n",
       "      <td>Minnie and Moo go dancing / [written and illus...</td>\n",
       "      <td>176</td>\n",
       "    </tr>\n",
       "  </tbody>\n",
       "</table>\n",
       "</div>"
      ],
      "text/plain": [
       "   ID  UsageClass  CheckoutType  CheckoutYear  CheckoutMonth  Checkouts  \\\n",
       "0   1           1             1          2005              4          1   \n",
       "2   3           1             1          2005              4          3   \n",
       "3   4           1             1          2005              4          1   \n",
       "4   5           1             1          2005              4          1   \n",
       "5   6           1             1          2005              4          4   \n",
       "\n",
       "                                               Title           Creator  \\\n",
       "0                                         Tidal wave        No Creator   \n",
       "2  Cinco de Mayo : celebrating Hispanic pride / C...  Gnojewski, Carol   \n",
       "3                                          Annapolis        No Creator   \n",
       "4                                  As a man thinketh        No Creator   \n",
       "5  Minnie and Moo go dancing / [written and illus...      Cazet, Denys   \n",
       "\n",
       "                                            Subjects           Publisher  \\\n",
       "0             Tsunamis, Tsunamis Juvenile literature        No Publisher   \n",
       "2  Cinco de Mayo Mexican holiday History Juvenile...  Enslow Publishers,   \n",
       "3  War stories, Historical fiction, Domestic fict...        No Publisher   \n",
       "4                               Thought and thinking        No Publisher   \n",
       "5  Cows Juvenile fiction, Parties Fiction, Farm l...            DK Pub.,   \n",
       "\n",
       "  PublicationYear MaterialType  \\\n",
       "0               0         BOOK   \n",
       "2          c2002.         BOOK   \n",
       "3               0         BOOK   \n",
       "4               0         BOOK   \n",
       "5          c1998.         BOOK   \n",
       "\n",
       "                                            combined  Length  \n",
       "0  Tidal wave No Creator Tsunamis, Tsunamis Juven...      73  \n",
       "2  Cinco de Mayo : celebrating Hispanic pride / C...     420  \n",
       "3  Annapolis No Creator War stories, Historical f...     287  \n",
       "4  As a man thinketh No Creator Thought and think...      62  \n",
       "5  Minnie and Moo go dancing / [written and illus...     176  "
      ]
     },
     "execution_count": 125,
     "metadata": {},
     "output_type": "execute_result"
    }
   ],
   "source": [
    "df_train.head()"
   ]
  },
  {
   "cell_type": "code",
   "execution_count": 86,
   "metadata": {},
   "outputs": [
    {
     "data": {
      "text/plain": [
       "ID                  0.000000\n",
       "UsageClass          0.000000\n",
       "CheckoutType        0.000000\n",
       "CheckoutYear        0.000000\n",
       "CheckoutMonth       0.000000\n",
       "Checkouts           0.000000\n",
       "Title               0.000000\n",
       "Creator            73.095757\n",
       "Subjects            5.569772\n",
       "Publisher          69.238303\n",
       "PublicationYear    69.285692\n",
       "MaterialType        0.000000\n",
       "dtype: float64"
      ]
     },
     "execution_count": 86,
     "metadata": {},
     "output_type": "execute_result"
    }
   ],
   "source": [
    "# Check the null values across all columns\n",
    "df_train.isnull().sum() * 100 / len(df_train)"
   ]
  },
  {
   "cell_type": "code",
   "execution_count": 87,
   "metadata": {},
   "outputs": [],
   "source": [
    "# Replace Null values in Creator, Publisher and Publication Year by No Creator, No Publisher and 0\n",
    "df_train['Creator'].fillna(\"No Creator\", inplace = True)\n",
    "df_train['Publisher'].fillna(\"No Publisher\", inplace = True)\n",
    "df_train['PublicationYear'].fillna(\"0\", inplace = True)"
   ]
  },
  {
   "cell_type": "code",
   "execution_count": 88,
   "metadata": {},
   "outputs": [
    {
     "data": {
      "text/html": [
       "<div>\n",
       "<style scoped>\n",
       "    .dataframe tbody tr th:only-of-type {\n",
       "        vertical-align: middle;\n",
       "    }\n",
       "\n",
       "    .dataframe tbody tr th {\n",
       "        vertical-align: top;\n",
       "    }\n",
       "\n",
       "    .dataframe thead th {\n",
       "        text-align: right;\n",
       "    }\n",
       "</style>\n",
       "<table border=\"1\" class=\"dataframe\">\n",
       "  <thead>\n",
       "    <tr style=\"text-align: right;\">\n",
       "      <th></th>\n",
       "      <th>ID</th>\n",
       "      <th>UsageClass</th>\n",
       "      <th>CheckoutType</th>\n",
       "      <th>CheckoutYear</th>\n",
       "      <th>CheckoutMonth</th>\n",
       "      <th>Checkouts</th>\n",
       "      <th>Title</th>\n",
       "      <th>Creator</th>\n",
       "      <th>Subjects</th>\n",
       "      <th>Publisher</th>\n",
       "      <th>PublicationYear</th>\n",
       "      <th>MaterialType</th>\n",
       "    </tr>\n",
       "  </thead>\n",
       "  <tbody>\n",
       "    <tr>\n",
       "      <td>0</td>\n",
       "      <td>1</td>\n",
       "      <td>Physical</td>\n",
       "      <td>Horizon</td>\n",
       "      <td>2005</td>\n",
       "      <td>4</td>\n",
       "      <td>1</td>\n",
       "      <td>Tidal wave</td>\n",
       "      <td>No Creator</td>\n",
       "      <td>Tsunamis, Tsunamis Juvenile literature</td>\n",
       "      <td>No Publisher</td>\n",
       "      <td>0</td>\n",
       "      <td>BOOK</td>\n",
       "    </tr>\n",
       "    <tr>\n",
       "      <td>1</td>\n",
       "      <td>2</td>\n",
       "      <td>Physical</td>\n",
       "      <td>Horizon</td>\n",
       "      <td>2005</td>\n",
       "      <td>4</td>\n",
       "      <td>1</td>\n",
       "      <td>London holiday / Richard Peck.</td>\n",
       "      <td>Peck, Richard, 1934-</td>\n",
       "      <td>NaN</td>\n",
       "      <td>Viking,</td>\n",
       "      <td>1998.</td>\n",
       "      <td>BOOK</td>\n",
       "    </tr>\n",
       "    <tr>\n",
       "      <td>2</td>\n",
       "      <td>3</td>\n",
       "      <td>Physical</td>\n",
       "      <td>Horizon</td>\n",
       "      <td>2005</td>\n",
       "      <td>4</td>\n",
       "      <td>3</td>\n",
       "      <td>Cinco de Mayo : celebrating Hispanic pride / C...</td>\n",
       "      <td>Gnojewski, Carol</td>\n",
       "      <td>Cinco de Mayo Mexican holiday History Juvenile...</td>\n",
       "      <td>Enslow Publishers,</td>\n",
       "      <td>c2002.</td>\n",
       "      <td>BOOK</td>\n",
       "    </tr>\n",
       "    <tr>\n",
       "      <td>3</td>\n",
       "      <td>4</td>\n",
       "      <td>Physical</td>\n",
       "      <td>Horizon</td>\n",
       "      <td>2005</td>\n",
       "      <td>4</td>\n",
       "      <td>1</td>\n",
       "      <td>Annapolis</td>\n",
       "      <td>No Creator</td>\n",
       "      <td>War stories, Historical fiction, Domestic fict...</td>\n",
       "      <td>No Publisher</td>\n",
       "      <td>0</td>\n",
       "      <td>BOOK</td>\n",
       "    </tr>\n",
       "    <tr>\n",
       "      <td>4</td>\n",
       "      <td>5</td>\n",
       "      <td>Physical</td>\n",
       "      <td>Horizon</td>\n",
       "      <td>2005</td>\n",
       "      <td>4</td>\n",
       "      <td>1</td>\n",
       "      <td>As a man thinketh</td>\n",
       "      <td>No Creator</td>\n",
       "      <td>Thought and thinking</td>\n",
       "      <td>No Publisher</td>\n",
       "      <td>0</td>\n",
       "      <td>BOOK</td>\n",
       "    </tr>\n",
       "  </tbody>\n",
       "</table>\n",
       "</div>"
      ],
      "text/plain": [
       "   ID UsageClass CheckoutType  CheckoutYear  CheckoutMonth  Checkouts  \\\n",
       "0   1   Physical      Horizon          2005              4          1   \n",
       "1   2   Physical      Horizon          2005              4          1   \n",
       "2   3   Physical      Horizon          2005              4          3   \n",
       "3   4   Physical      Horizon          2005              4          1   \n",
       "4   5   Physical      Horizon          2005              4          1   \n",
       "\n",
       "                                               Title               Creator  \\\n",
       "0                                         Tidal wave            No Creator   \n",
       "1                     London holiday / Richard Peck.  Peck, Richard, 1934-   \n",
       "2  Cinco de Mayo : celebrating Hispanic pride / C...      Gnojewski, Carol   \n",
       "3                                          Annapolis            No Creator   \n",
       "4                                  As a man thinketh            No Creator   \n",
       "\n",
       "                                            Subjects           Publisher  \\\n",
       "0             Tsunamis, Tsunamis Juvenile literature        No Publisher   \n",
       "1                                                NaN             Viking,   \n",
       "2  Cinco de Mayo Mexican holiday History Juvenile...  Enslow Publishers,   \n",
       "3  War stories, Historical fiction, Domestic fict...        No Publisher   \n",
       "4                               Thought and thinking        No Publisher   \n",
       "\n",
       "  PublicationYear MaterialType  \n",
       "0               0         BOOK  \n",
       "1           1998.         BOOK  \n",
       "2          c2002.         BOOK  \n",
       "3               0         BOOK  \n",
       "4               0         BOOK  "
      ]
     },
     "execution_count": 88,
     "metadata": {},
     "output_type": "execute_result"
    }
   ],
   "source": [
    "df_train.head()"
   ]
  },
  {
   "cell_type": "code",
   "execution_count": 89,
   "metadata": {},
   "outputs": [
    {
     "data": {
      "text/plain": [
       "ID                 0.000000\n",
       "UsageClass         0.000000\n",
       "CheckoutType       0.000000\n",
       "CheckoutYear       0.000000\n",
       "CheckoutMonth      0.000000\n",
       "Checkouts          0.000000\n",
       "Title              0.000000\n",
       "Creator            0.000000\n",
       "Subjects           5.569772\n",
       "Publisher          0.000000\n",
       "PublicationYear    0.000000\n",
       "MaterialType       0.000000\n",
       "dtype: float64"
      ]
     },
     "execution_count": 89,
     "metadata": {},
     "output_type": "execute_result"
    }
   ],
   "source": [
    "df_train.isnull().sum() * 100 / len(df_train)"
   ]
  },
  {
   "cell_type": "code",
   "execution_count": 90,
   "metadata": {},
   "outputs": [
    {
     "data": {
      "text/plain": [
       "No Creator                     23137\n",
       "Rylant, Cynthia                   16\n",
       "Gibbons, Gail                     14\n",
       "Brown, Marc Tolon                 13\n",
       "DePaola, Tomie, 1934-             13\n",
       "                               ...  \n",
       "Gash, Norman                       1\n",
       "Davis, Aubrey                      1\n",
       "Burton, Maurice, 1898-1992.        1\n",
       "Thomas, Ross, 1926-1995            1\n",
       "Hillary, Peter                     1\n",
       "Name: Creator, Length: 6732, dtype: int64"
      ]
     },
     "execution_count": 90,
     "metadata": {},
     "output_type": "execute_result"
    }
   ],
   "source": [
    "df_train['Creator'].value_counts()"
   ]
  },
  {
   "cell_type": "code",
   "execution_count": 91,
   "metadata": {},
   "outputs": [
    {
     "data": {
      "text/plain": [
       "No Publisher                                                                                                                                                                   21916\n",
       "Random House,                                                                                                                                                                    116\n",
       "HarperCollins,                                                                                                                                                                   113\n",
       "Viking,                                                                                                                                                                          109\n",
       "Thorndike Press,                                                                                                                                                                 109\n",
       "                                                                                                                                                                               ...  \n",
       "Madison Square Press                                                                                                                                                               1\n",
       "Backbeat Books ; Distributed to the book trade in the U.S. and Canada by Publishers Group West ; Distributed to the music trade in the U.S. and Canada by Hal Leonard Pub.,        1\n",
       "Copper Beech Books,                                                                                                                                                                1\n",
       "Phượng Hoàng Productions,                                                                                                                                                          1\n",
       "New World Press,                                                                                                                                                                   1\n",
       "Name: Publisher, Length: 3520, dtype: int64"
      ]
     },
     "execution_count": 91,
     "metadata": {},
     "output_type": "execute_result"
    }
   ],
   "source": [
    "df_train['Publisher'].value_counts()"
   ]
  },
  {
   "cell_type": "code",
   "execution_count": 92,
   "metadata": {},
   "outputs": [
    {
     "data": {
      "text/plain": [
       "<matplotlib.axes._subplots.AxesSubplot at 0x7f9c19c0ff10>"
      ]
     },
     "execution_count": 92,
     "metadata": {},
     "output_type": "execute_result"
    },
    {
     "data": {
      "image/png": "[encoded data removed]",
      "text/plain": [
       "<Figure size 720x432 with 1 Axes>"
      ]
     },
     "metadata": {
      "needs_background": "light"
     },
     "output_type": "display_data"
    }
   ],
   "source": [
    "plt.figure(figsize=(10,6))\n",
    "sns.countplot(x='MaterialType',data=df_train)"
   ]
  },
  {
   "cell_type": "code",
   "execution_count": 93,
   "metadata": {},
   "outputs": [
    {
     "data": {
      "text/plain": [
       "24756"
      ]
     },
     "execution_count": 93,
     "metadata": {},
     "output_type": "execute_result"
    }
   ],
   "source": [
    "len(df_train['Subjects'].unique())"
   ]
  },
  {
   "cell_type": "code",
   "execution_count": 94,
   "metadata": {},
   "outputs": [],
   "source": [
    "# Drop the Null Values of Subjects columns\n",
    "df_train.dropna(inplace=True)"
   ]
  },
  {
   "cell_type": "code",
   "execution_count": 95,
   "metadata": {},
   "outputs": [
    {
     "data": {
      "text/plain": [
       "BOOK         20366\n",
       "SOUNDDISC     4138\n",
       "VIDEOCASS     2742\n",
       "VIDEODISC     1415\n",
       "SOUNDCASS      915\n",
       "MUSIC          165\n",
       "CR              94\n",
       "MIXED           55\n",
       "Name: MaterialType, dtype: int64"
      ]
     },
     "execution_count": 95,
     "metadata": {},
     "output_type": "execute_result"
    }
   ],
   "source": [
    "df_train['MaterialType'].value_counts()"
   ]
  },
  {
   "cell_type": "code",
   "execution_count": 96,
   "metadata": {},
   "outputs": [],
   "source": [
    "# Create new column 'combined' after clubbing 4 columns\n",
    "df_train['combined']=df_train.apply(lambda x:'%s %s %s %s' % (x['Title'],x['Creator'],x['Subjects'],x['Publisher'])\n",
    "                                    ,axis=1)"
   ]
  },
  {
   "cell_type": "code",
   "execution_count": 97,
   "metadata": {},
   "outputs": [],
   "source": [
    "# Update UsageClass & CheckoutType column with Numeric fields\n",
    "df_train.loc[df_train['UsageClass'] == 'Physical', 'UsageClass'] = 1\n",
    "df_train.loc[df_train['CheckoutType'] == 'Horizon', 'CheckoutType'] = 1"
   ]
  },
  {
   "cell_type": "code",
   "execution_count": 98,
   "metadata": {},
   "outputs": [
    {
     "data": {
      "text/plain": [
       "29890"
      ]
     },
     "execution_count": 98,
     "metadata": {},
     "output_type": "execute_result"
    }
   ],
   "source": [
    "# Almost all columns in combined column has unique value\n",
    "len(df_train['combined'].unique())"
   ]
  },
  {
   "cell_type": "code",
   "execution_count": 99,
   "metadata": {},
   "outputs": [],
   "source": [
    "# Use NLP to find relationship b/w combined column and MaterialType\n",
    "import nltk"
   ]
  },
  {
   "cell_type": "code",
   "execution_count": 100,
   "metadata": {},
   "outputs": [
    {
     "data": {
      "text/plain": [
       "count                                                 29890\n",
       "unique                                                29890\n",
       "top       stories of J F Powers No Creator United States...\n",
       "freq                                                      1\n",
       "Name: combined, dtype: object"
      ]
     },
     "execution_count": 100,
     "metadata": {},
     "output_type": "execute_result"
    }
   ],
   "source": [
    "# Get the info of combined column\n",
    "df_train['combined'].describe()"
   ]
  },
  {
   "cell_type": "code",
   "execution_count": 101,
   "metadata": {},
   "outputs": [
    {
     "data": {
      "text/html": [
       "<div>\n",
       "<style scoped>\n",
       "    .dataframe tbody tr th:only-of-type {\n",
       "        vertical-align: middle;\n",
       "    }\n",
       "\n",
       "    .dataframe tbody tr th {\n",
       "        vertical-align: top;\n",
       "    }\n",
       "\n",
       "    .dataframe thead th {\n",
       "        text-align: right;\n",
       "    }\n",
       "</style>\n",
       "<table border=\"1\" class=\"dataframe\">\n",
       "  <thead>\n",
       "    <tr style=\"text-align: right;\">\n",
       "      <th></th>\n",
       "      <th>count</th>\n",
       "      <th>unique</th>\n",
       "      <th>top</th>\n",
       "      <th>freq</th>\n",
       "    </tr>\n",
       "    <tr>\n",
       "      <th>MaterialType</th>\n",
       "      <th></th>\n",
       "      <th></th>\n",
       "      <th></th>\n",
       "      <th></th>\n",
       "    </tr>\n",
       "  </thead>\n",
       "  <tbody>\n",
       "    <tr>\n",
       "      <td>BOOK</td>\n",
       "      <td>20366</td>\n",
       "      <td>20366</td>\n",
       "      <td>Desert No Creator Ecology, Deserts, Desert eco...</td>\n",
       "      <td>1</td>\n",
       "    </tr>\n",
       "    <tr>\n",
       "      <td>CR</td>\n",
       "      <td>94</td>\n",
       "      <td>94</td>\n",
       "      <td>Chilton's truck and van repair manual. No Crea...</td>\n",
       "      <td>1</td>\n",
       "    </tr>\n",
       "    <tr>\n",
       "      <td>MIXED</td>\n",
       "      <td>55</td>\n",
       "      <td>55</td>\n",
       "      <td>Learn to play chess with Fritz Chesster No Cre...</td>\n",
       "      <td>1</td>\n",
       "    </tr>\n",
       "    <tr>\n",
       "      <td>MUSIC</td>\n",
       "      <td>165</td>\n",
       "      <td>165</td>\n",
       "      <td>Al Gallico's 42 Nashville hits of the 70's [mu...</td>\n",
       "      <td>1</td>\n",
       "    </tr>\n",
       "    <tr>\n",
       "      <td>SOUNDCASS</td>\n",
       "      <td>915</td>\n",
       "      <td>915</td>\n",
       "      <td>mouse cookie and other songs games and reading...</td>\n",
       "      <td>1</td>\n",
       "    </tr>\n",
       "    <tr>\n",
       "      <td>SOUNDDISC</td>\n",
       "      <td>4138</td>\n",
       "      <td>4138</td>\n",
       "      <td>Arrival No Creator Rock music 2001 2010 No Pub...</td>\n",
       "      <td>1</td>\n",
       "    </tr>\n",
       "    <tr>\n",
       "      <td>VIDEOCASS</td>\n",
       "      <td>2742</td>\n",
       "      <td>2742</td>\n",
       "      <td>Italian job No Creator Video recordings for th...</td>\n",
       "      <td>1</td>\n",
       "    </tr>\n",
       "    <tr>\n",
       "      <td>VIDEODISC</td>\n",
       "      <td>1415</td>\n",
       "      <td>1415</td>\n",
       "      <td>Wiggles Magical adventure a wiggly movie No Cr...</td>\n",
       "      <td>1</td>\n",
       "    </tr>\n",
       "  </tbody>\n",
       "</table>\n",
       "</div>"
      ],
      "text/plain": [
       "              count unique                                                top  \\\n",
       "MaterialType                                                                    \n",
       "BOOK          20366  20366  Desert No Creator Ecology, Deserts, Desert eco...   \n",
       "CR               94     94  Chilton's truck and van repair manual. No Crea...   \n",
       "MIXED            55     55  Learn to play chess with Fritz Chesster No Cre...   \n",
       "MUSIC           165    165  Al Gallico's 42 Nashville hits of the 70's [mu...   \n",
       "SOUNDCASS       915    915  mouse cookie and other songs games and reading...   \n",
       "SOUNDDISC      4138   4138  Arrival No Creator Rock music 2001 2010 No Pub...   \n",
       "VIDEOCASS      2742   2742  Italian job No Creator Video recordings for th...   \n",
       "VIDEODISC      1415   1415  Wiggles Magical adventure a wiggly movie No Cr...   \n",
       "\n",
       "             freq  \n",
       "MaterialType       \n",
       "BOOK            1  \n",
       "CR              1  \n",
       "MIXED           1  \n",
       "MUSIC           1  \n",
       "SOUNDCASS       1  \n",
       "SOUNDDISC       1  \n",
       "VIDEOCASS       1  \n",
       "VIDEODISC       1  "
      ]
     },
     "execution_count": 101,
     "metadata": {},
     "output_type": "execute_result"
    }
   ],
   "source": [
    "# Info of combined column segregated by MaterialType\n",
    "df_train.groupby('MaterialType')['combined'].describe()"
   ]
  },
  {
   "cell_type": "code",
   "execution_count": 102,
   "metadata": {},
   "outputs": [],
   "source": [
    "# Populate the length of combined column in a new one\n",
    "df_train['Length']=df_train['combined'].apply(len)"
   ]
  },
  {
   "cell_type": "code",
   "execution_count": 103,
   "metadata": {},
   "outputs": [
    {
     "data": {
      "text/html": [
       "<div>\n",
       "<style scoped>\n",
       "    .dataframe tbody tr th:only-of-type {\n",
       "        vertical-align: middle;\n",
       "    }\n",
       "\n",
       "    .dataframe tbody tr th {\n",
       "        vertical-align: top;\n",
       "    }\n",
       "\n",
       "    .dataframe thead th {\n",
       "        text-align: right;\n",
       "    }\n",
       "</style>\n",
       "<table border=\"1\" class=\"dataframe\">\n",
       "  <thead>\n",
       "    <tr style=\"text-align: right;\">\n",
       "      <th></th>\n",
       "      <th>ID</th>\n",
       "      <th>UsageClass</th>\n",
       "      <th>CheckoutType</th>\n",
       "      <th>CheckoutYear</th>\n",
       "      <th>CheckoutMonth</th>\n",
       "      <th>Checkouts</th>\n",
       "      <th>Title</th>\n",
       "      <th>Creator</th>\n",
       "      <th>Subjects</th>\n",
       "      <th>Publisher</th>\n",
       "      <th>PublicationYear</th>\n",
       "      <th>MaterialType</th>\n",
       "      <th>combined</th>\n",
       "      <th>Length</th>\n",
       "    </tr>\n",
       "  </thead>\n",
       "  <tbody>\n",
       "    <tr>\n",
       "      <td>0</td>\n",
       "      <td>1</td>\n",
       "      <td>1</td>\n",
       "      <td>1</td>\n",
       "      <td>2005</td>\n",
       "      <td>4</td>\n",
       "      <td>1</td>\n",
       "      <td>Tidal wave</td>\n",
       "      <td>No Creator</td>\n",
       "      <td>Tsunamis, Tsunamis Juvenile literature</td>\n",
       "      <td>No Publisher</td>\n",
       "      <td>0</td>\n",
       "      <td>BOOK</td>\n",
       "      <td>Tidal wave No Creator Tsunamis, Tsunamis Juven...</td>\n",
       "      <td>73</td>\n",
       "    </tr>\n",
       "  </tbody>\n",
       "</table>\n",
       "</div>"
      ],
      "text/plain": [
       "   ID  UsageClass  CheckoutType  CheckoutYear  CheckoutMonth  Checkouts  \\\n",
       "0   1           1             1          2005              4          1   \n",
       "\n",
       "        Title     Creator                                Subjects  \\\n",
       "0  Tidal wave  No Creator  Tsunamis, Tsunamis Juvenile literature   \n",
       "\n",
       "      Publisher PublicationYear MaterialType  \\\n",
       "0  No Publisher               0         BOOK   \n",
       "\n",
       "                                            combined  Length  \n",
       "0  Tidal wave No Creator Tsunamis, Tsunamis Juven...      73  "
      ]
     },
     "execution_count": 103,
     "metadata": {},
     "output_type": "execute_result"
    }
   ],
   "source": [
    "df_train.head(1)"
   ]
  },
  {
   "cell_type": "code",
   "execution_count": 104,
   "metadata": {},
   "outputs": [
    {
     "data": {
      "text/plain": [
       "<matplotlib.axes._subplots.AxesSubplot at 0x7f9c19a01450>"
      ]
     },
     "execution_count": 104,
     "metadata": {},
     "output_type": "execute_result"
    },
    {
     "data": {
      "image/png": "[encoded data removed]",
      "text/plain": [
       "<Figure size 720x432 with 1 Axes>"
      ]
     },
     "metadata": {
      "needs_background": "light"
     },
     "output_type": "display_data"
    }
   ],
   "source": [
    "# Plot the graph of length of Length column\n",
    "plt.figure(figsize=(10,6))\n",
    "df_train['Length'].plot.hist(bins=150)"
   ]
  },
  {
   "cell_type": "code",
   "execution_count": 105,
   "metadata": {},
   "outputs": [
    {
     "data": {
      "text/plain": [
       "'Jazz. Episode five, Swing, pure pleasure [videorecording] / a production of Florentine Films and WETA, Washington D.C. in association with BBC ; a film by Ken Burns ; writer, Geoffrey C. Ward ; producers, Ken Burns, Lynn Novick. No Creator Armstrong Louis 1901 1971, Ellington Duke 1899 1974, Goodman Benny 1909 1986, Webb Chick, Dorsey Tommy 1905 1956, Lunceford Jimmie, Miller Glenn 1904 1944, Shaw Artie 1910 2004, Holiday Billie 1915 1959, Savoy Ballroom New York N Y History, Depressions 1929 United States History Songs and music, Jazz 1931 1940 History and criticism, Jazz musicians United States Biography, African American musicians Biography, African Americans Music, Jazz dance United States, Swing Music History and criticism, Discrimination in public accommodations United States History 20th century, Discrimination in employment United States History 20th century PBS DVD,'"
      ]
     },
     "execution_count": 105,
     "metadata": {},
     "output_type": "execute_result"
    }
   ],
   "source": [
    "# Get the max length message\n",
    "df_train[df_train['Length']==df_train['Length'].max()]['combined'].iloc[0]"
   ]
  },
  {
   "cell_type": "code",
   "execution_count": 106,
   "metadata": {},
   "outputs": [
    {
     "data": {
      "text/plain": [
       "count    29890.000000\n",
       "mean       156.017966\n",
       "std         82.248761\n",
       "min         31.000000\n",
       "25%         97.000000\n",
       "50%        139.000000\n",
       "75%        194.000000\n",
       "max        887.000000\n",
       "Name: Length, dtype: float64"
      ]
     },
     "execution_count": 106,
     "metadata": {},
     "output_type": "execute_result"
    }
   ],
   "source": [
    "df_train['Length'].describe()"
   ]
  },
  {
   "cell_type": "code",
   "execution_count": 107,
   "metadata": {},
   "outputs": [
    {
     "data": {
      "text/plain": [
       "array([[<matplotlib.axes._subplots.AxesSubplot object at 0x7f9c1938d9d0>,\n",
       "        <matplotlib.axes._subplots.AxesSubplot object at 0x7f9c1940fb50>,\n",
       "        <matplotlib.axes._subplots.AxesSubplot object at 0x7f9c1913de50>],\n",
       "       [<matplotlib.axes._subplots.AxesSubplot object at 0x7f9c190fcc10>,\n",
       "        <matplotlib.axes._subplots.AxesSubplot object at 0x7f9c19435f10>,\n",
       "        <matplotlib.axes._subplots.AxesSubplot object at 0x7f9c19969790>],\n",
       "       [<matplotlib.axes._subplots.AxesSubplot object at 0x7f9c1999da90>,\n",
       "        <matplotlib.axes._subplots.AxesSubplot object at 0x7f9c199d3d90>,\n",
       "        <matplotlib.axes._subplots.AxesSubplot object at 0x7f9c19db2850>]],\n",
       "      dtype=object)"
      ]
     },
     "execution_count": 107,
     "metadata": {},
     "output_type": "execute_result"
    },
    {
     "data": {
      "image/png": "[encoded data removed]",
      "text/plain": [
       "<Figure size 1440x576 with 9 Axes>"
      ]
     },
     "metadata": {
      "needs_background": "light"
     },
     "output_type": "display_data"
    }
   ],
   "source": [
    "df_train.hist(column='Length',by='MaterialType',bins=60,figsize=(20,8))"
   ]
  },
  {
   "cell_type": "code",
   "execution_count": 108,
   "metadata": {},
   "outputs": [],
   "source": [
    "# find punctuations\n",
    "import string\n",
    "from nltk.corpus import stopwords"
   ]
  },
  {
   "cell_type": "code",
   "execution_count": 109,
   "metadata": {},
   "outputs": [],
   "source": [
    "def text_cleanup(mess):\n",
    "    nonpunc=[c for c in mess if c not in string.punctuation]\n",
    "    nonpunc=''.join(nonpunc)\n",
    "    return [word for word in nonpunc.split() if word.lower() not in stopwords.words('English')]"
   ]
  },
  {
   "cell_type": "code",
   "execution_count": 110,
   "metadata": {},
   "outputs": [
    {
     "data": {
      "text/plain": [
       "0    [Tidal, wave, Creator, Tsunamis, Tsunamis, Juv...\n",
       "2    [Cinco, de, Mayo, celebrating, Hispanic, pride...\n",
       "3    [Annapolis, Creator, War, stories, Historical,...\n",
       "4    [man, thinketh, Creator, Thought, thinking, Pu...\n",
       "5    [Minnie, Moo, go, dancing, written, illustrate...\n",
       "Name: combined, dtype: object"
      ]
     },
     "execution_count": 110,
     "metadata": {},
     "output_type": "execute_result"
    }
   ],
   "source": [
    "df_train['combined'].head().apply(text_cleanup)"
   ]
  },
  {
   "cell_type": "code",
   "execution_count": 111,
   "metadata": {},
   "outputs": [],
   "source": [
    "# Count Vectorization\n",
    "from sklearn.feature_extraction.text import CountVectorizer\n",
    "\n",
    "bow_tranformer=CountVectorizer(analyzer=text_cleanup).fit(df_train['combined'])"
   ]
  },
  {
   "cell_type": "code",
   "execution_count": 112,
   "metadata": {},
   "outputs": [
    {
     "data": {
      "text/plain": [
       "46147"
      ]
     },
     "execution_count": 112,
     "metadata": {},
     "output_type": "execute_result"
    }
   ],
   "source": [
    "# Get the total words in matrix\n",
    "len(bow_tranformer.vocabulary_)"
   ]
  },
  {
   "cell_type": "code",
   "execution_count": 113,
   "metadata": {},
   "outputs": [],
   "source": [
    "# Run Pipeline\n",
    "from sklearn.pipeline import Pipeline\n",
    "from sklearn.naive_bayes import MultinomialNB\n",
    "# Get the TF-idf\n",
    "from sklearn.feature_extraction.text import TfidfTransformer"
   ]
  },
  {
   "cell_type": "code",
   "execution_count": 114,
   "metadata": {},
   "outputs": [],
   "source": [
    "message_bow=bow_tranformer.transform(df_train['combined'])"
   ]
  },
  {
   "cell_type": "code",
   "execution_count": 115,
   "metadata": {},
   "outputs": [],
   "source": [
    "# Fit the function TfidfTransformer().fit to bag of words - message_bow\n",
    "tfidf_transformer=TfidfTransformer().fit(message_bow)"
   ]
  },
  {
   "cell_type": "code",
   "execution_count": 116,
   "metadata": {},
   "outputs": [],
   "source": [
    "messages_idf=tfidf_transformer.transform(message_bow)"
   ]
  },
  {
   "cell_type": "code",
   "execution_count": 117,
   "metadata": {},
   "outputs": [
    {
     "data": {
      "text/plain": [
       "CountVectorizer(analyzer=<function text_cleanup at 0x7f9c2b804050>)"
      ]
     },
     "execution_count": 117,
     "metadata": {},
     "output_type": "execute_result"
    }
   ],
   "source": [
    "bow_tranformer"
   ]
  },
  {
   "cell_type": "code",
   "execution_count": 118,
   "metadata": {},
   "outputs": [],
   "source": [
    "from sklearn.metrics import classification_report,confusion_matrix\n",
    "from sklearn.model_selection import train_test_split"
   ]
  },
  {
   "cell_type": "code",
   "execution_count": 119,
   "metadata": {},
   "outputs": [],
   "source": [
    "def pipeline_build_exec(Model):\n",
    "    pipeline_Model=Pipeline([('bow', CountVectorizer(analyzer=text_cleanup)),\n",
    "                   ('tfidf', TfidfTransformer()),\n",
    "                   ('classifier',Model())\n",
    "                 ])\n",
    "    msg_train,msg_test,label_train,label_test=train_test_split(df_train['combined'], df_train['MaterialType'], \n",
    "                                                           test_size=0.2)\n",
    "    pipeline.fit(msg_train,label_train)\n",
    "    predictions=pipeline.predict(msg_test)\n",
    "    print(confusion_matrix(label_test,predictions))\n",
    "    print(classification_report(label_test,predictions))\n",
    "    print('\\n')"
   ]
  },
  {
   "cell_type": "code",
   "execution_count": 120,
   "metadata": {},
   "outputs": [],
   "source": [
    "from sklearn.ensemble import RandomForestClassifier\n",
    "from sklearn.linear_model import LogisticRegression\n",
    "from sklearn.tree import DecisionTreeClassifier\n",
    "from sklearn.naive_bayes import MultinomialNB"
   ]
  },
  {
   "cell_type": "code",
   "execution_count": 121,
   "metadata": {},
   "outputs": [
    {
     "name": "stdout",
     "output_type": "stream",
     "text": [
      " 1. Classification Report of MultinomialNB          : -\n",
      "\n",
      "\n",
      "[[4043    0    0    0    0    3    0    0]\n",
      " [  12    0    0    0    0    0    0    0]\n",
      " [   7    0    0    0    0    1    0    0]\n",
      " [   8    0    0    0    0   15    0    0]\n",
      " [ 188    0    0    0    0    2    0    0]\n",
      " [ 147    0    0    0    0  735    0    0]\n",
      " [ 288    0    0    0    0   13  250    0]\n",
      " [ 107    0    0    0    0    8   88   63]]\n",
      "              precision    recall  f1-score   support\n",
      "\n",
      "        BOOK       0.84      1.00      0.91      4046\n",
      "          CR       0.00      0.00      0.00        12\n",
      "       MIXED       0.00      0.00      0.00         8\n",
      "       MUSIC       0.00      0.00      0.00        23\n",
      "   SOUNDCASS       0.00      0.00      0.00       190\n",
      "   SOUNDDISC       0.95      0.83      0.89       882\n",
      "   VIDEOCASS       0.74      0.45      0.56       551\n",
      "   VIDEODISC       1.00      0.24      0.38       266\n",
      "\n",
      "    accuracy                           0.85      5978\n",
      "   macro avg       0.44      0.32      0.34      5978\n",
      "weighted avg       0.82      0.85      0.82      5978\n",
      "\n",
      "\n",
      "\n",
      " 2. Classification Report of RandomForestClassifier : -\n",
      "\n",
      "\n"
     ]
    },
    {
     "name": "stderr",
     "output_type": "stream",
     "text": [
      "/Users/pawanp29/opt/anaconda3/lib/python3.7/site-packages/sklearn/metrics/_classification.py:1221: UndefinedMetricWarning: Precision and F-score are ill-defined and being set to 0.0 in labels with no predicted samples. Use `zero_division` parameter to control this behavior.\n",
      "  _warn_prf(average, modifier, msg_start, len(result))\n"
     ]
    },
    {
     "name": "stdout",
     "output_type": "stream",
     "text": [
      "[[4042    0    0    0    0    4    0    0]\n",
      " [  25    0    0    0    0    0    0    0]\n",
      " [   8    0    0    0    0    1    0    0]\n",
      " [   4    0    0    0    0   21    0    0]\n",
      " [ 174    0    0    0    0    3    0    0]\n",
      " [ 146    0    0    0    0  703    0    1]\n",
      " [ 278    0    0    0    0    8  262    0]\n",
      " [ 127    0    0    0    0    4   95   72]]\n",
      "              precision    recall  f1-score   support\n",
      "\n",
      "        BOOK       0.84      1.00      0.91      4046\n",
      "          CR       0.00      0.00      0.00        25\n",
      "       MIXED       0.00      0.00      0.00         9\n",
      "       MUSIC       0.00      0.00      0.00        25\n",
      "   SOUNDCASS       0.00      0.00      0.00       177\n",
      "   SOUNDDISC       0.94      0.83      0.88       850\n",
      "   VIDEOCASS       0.73      0.48      0.58       548\n",
      "   VIDEODISC       0.99      0.24      0.39       298\n",
      "\n",
      "    accuracy                           0.85      5978\n",
      "   macro avg       0.44      0.32      0.35      5978\n",
      "weighted avg       0.82      0.85      0.82      5978\n",
      "\n",
      "\n",
      "\n",
      " 3. Classification Report of LogisticRegression     : -\n",
      "\n",
      "\n"
     ]
    },
    {
     "name": "stderr",
     "output_type": "stream",
     "text": [
      "/Users/pawanp29/opt/anaconda3/lib/python3.7/site-packages/sklearn/metrics/_classification.py:1221: UndefinedMetricWarning: Precision and F-score are ill-defined and being set to 0.0 in labels with no predicted samples. Use `zero_division` parameter to control this behavior.\n",
      "  _warn_prf(average, modifier, msg_start, len(result))\n"
     ]
    },
    {
     "name": "stdout",
     "output_type": "stream",
     "text": [
      "[[4039    0    0    0    0    4    0    0]\n",
      " [  15    0    0    0    0    0    0    0]\n",
      " [   9    0    0    0    0    0    0    0]\n",
      " [   7    0    0    0    0   26    0    0]\n",
      " [ 198    0    0    0    0    2    0    0]\n",
      " [ 164    0    0    0    0  648    0    0]\n",
      " [ 278    0    0    0    0    9  260    0]\n",
      " [ 132    0    0    0    0   13   99   75]]\n",
      "              precision    recall  f1-score   support\n",
      "\n",
      "        BOOK       0.83      1.00      0.91      4043\n",
      "          CR       0.00      0.00      0.00        15\n",
      "       MIXED       0.00      0.00      0.00         9\n",
      "       MUSIC       0.00      0.00      0.00        33\n",
      "   SOUNDCASS       0.00      0.00      0.00       200\n",
      "   SOUNDDISC       0.92      0.80      0.86       812\n",
      "   VIDEOCASS       0.72      0.48      0.57       547\n",
      "   VIDEODISC       1.00      0.24      0.38       319\n",
      "\n",
      "    accuracy                           0.84      5978\n",
      "   macro avg       0.44      0.31      0.34      5978\n",
      "weighted avg       0.81      0.84      0.80      5978\n",
      "\n",
      "\n",
      "\n",
      " 4. Classification Report of DecisionTreeClassifier : -\n",
      "\n",
      "\n"
     ]
    },
    {
     "name": "stderr",
     "output_type": "stream",
     "text": [
      "/Users/pawanp29/opt/anaconda3/lib/python3.7/site-packages/sklearn/metrics/_classification.py:1221: UndefinedMetricWarning: Precision and F-score are ill-defined and being set to 0.0 in labels with no predicted samples. Use `zero_division` parameter to control this behavior.\n",
      "  _warn_prf(average, modifier, msg_start, len(result))\n"
     ]
    },
    {
     "name": "stdout",
     "output_type": "stream",
     "text": [
      "[[4063    0    0    0    0    6    0    0]\n",
      " [  21    0    0    0    0    0    0    0]\n",
      " [   6    0    0    0    0    2    1    0]\n",
      " [  12    0    0    0    0   22    0    0]\n",
      " [ 184    0    0    0    0    4    0    0]\n",
      " [ 164    0    0    0    0  676    0    0]\n",
      " [ 283    0    0    0    0   11  263    1]\n",
      " [ 110    0    0    0    0    5   84   60]]\n",
      "              precision    recall  f1-score   support\n",
      "\n",
      "        BOOK       0.84      1.00      0.91      4069\n",
      "          CR       0.00      0.00      0.00        21\n",
      "       MIXED       0.00      0.00      0.00         9\n",
      "       MUSIC       0.00      0.00      0.00        34\n",
      "   SOUNDCASS       0.00      0.00      0.00       188\n",
      "   SOUNDDISC       0.93      0.80      0.86       840\n",
      "   VIDEOCASS       0.76      0.47      0.58       558\n",
      "   VIDEODISC       0.98      0.23      0.38       259\n",
      "\n",
      "    accuracy                           0.85      5978\n",
      "   macro avg       0.44      0.31      0.34      5978\n",
      "weighted avg       0.82      0.85      0.81      5978\n",
      "\n",
      "\n",
      "\n"
     ]
    },
    {
     "name": "stderr",
     "output_type": "stream",
     "text": [
      "/Users/pawanp29/opt/anaconda3/lib/python3.7/site-packages/sklearn/metrics/_classification.py:1221: UndefinedMetricWarning: Precision and F-score are ill-defined and being set to 0.0 in labels with no predicted samples. Use `zero_division` parameter to control this behavior.\n",
      "  _warn_prf(average, modifier, msg_start, len(result))\n"
     ]
    }
   ],
   "source": [
    "print(' 1. Classification Report of MultinomialNB          : -')\n",
    "print('\\n')\n",
    "pipeline_build_exec(MultinomialNB)\n",
    "print(' 2. Classification Report of RandomForestClassifier : -')\n",
    "print('\\n')\n",
    "pipeline_build_exec(RandomForestClassifier)\n",
    "print(' 3. Classification Report of LogisticRegression     : -')\n",
    "print('\\n')\n",
    "pipeline_build_exec(LogisticRegression)\n",
    "print(' 4. Classification Report of DecisionTreeClassifier : -')\n",
    "print('\\n')\n",
    "pipeline_build_exec(DecisionTreeClassifier)"
   ]
  },
  {
   "cell_type": "code",
   "execution_count": 123,
   "metadata": {},
   "outputs": [],
   "source": [
    "# The accuracy generated by algorithms is almost same, hence execution time would be a key parameter to decide the\n",
    "# best algorithm."
   ]
  },
  {
   "cell_type": "code",
   "execution_count": null,
   "metadata": {},
   "outputs": [],
   "source": []
  }
 ],
 "metadata": {
  "kernelspec": {
   "display_name": "Python 3",
   "language": "python",
   "name": "python3"
  },
  "language_info": {
   "codemirror_mode": {
    "name": "ipython",
    "version": 3
   },
   "file_extension": ".py",
   "mimetype": "text/x-python",
   "name": "python",
   "nbconvert_exporter": "python",
   "pygments_lexer": "ipython3",
   "version": "3.7.4"
  }
 },
 "nbformat": 4,
 "nbformat_minor": 2
}
